{
  "nbformat": 4,
  "nbformat_minor": 0,
  "metadata": {
    "colab": {
      "name": "GuitarRecognizer.ipynb",
      "provenance": [],
      "authorship_tag": "ABX9TyMd9kb2+w63KKz9D3x91biw",
      "include_colab_link": true
    },
    "kernelspec": {
      "name": "python3",
      "display_name": "Python 3"
    }
  },
  "cells": [
    {
      "cell_type": "markdown",
      "metadata": {
        "id": "view-in-github",
        "colab_type": "text"
      },
      "source": [
        "<a href=\"https://colab.research.google.com/github/jsieb/GuitarRecognizer/blob/master/GuitarRecognizer.ipynb\" target=\"_parent\"><img src=\"https://colab.research.google.com/assets/colab-badge.svg\" alt=\"Open In Colab\"/></a>"
      ]
    },
    {
      "cell_type": "markdown",
      "metadata": {
        "id": "_IPy7IytaJg4",
        "colab_type": "text"
      },
      "source": [
        "Import packages"
      ]
    },
    {
      "cell_type": "code",
      "metadata": {
        "id": "L1plwifVIxrK",
        "colab_type": "code",
        "colab": {}
      },
      "source": [
        "from tensorflow.keras.preprocessing.image import ImageDataGenerator\n",
        "from tensorflow.keras.applications import MobileNetV2\n",
        "from tensorflow.keras.layers import AveragePooling2D\n",
        "from tensorflow.keras.layers import Dropout\n",
        "from tensorflow.keras.layers import Flatten\n",
        "from tensorflow.keras.layers import Dense\n",
        "from tensorflow.keras.layers import Input\n",
        "from tensorflow.keras.models import Model\n",
        "from tensorflow.keras.optimizers import Adam\n",
        "from tensorflow.keras.applications.mobilenet_v2 import preprocess_input\n",
        "from tensorflow.keras.preprocessing.image import img_to_array\n",
        "from tensorflow.keras.preprocessing.image import load_img\n",
        "from tensorflow.keras.utils import to_categorical\n",
        "from sklearn.preprocessing import LabelBinarizer\n",
        "from sklearn.model_selection import train_test_split\n",
        "from sklearn.metrics import classification_report\n",
        "from imutils import paths\n",
        "import matplotlib.pyplot as plt\n",
        "import numpy as np\n",
        "import argparse\n",
        "import os"
      ],
      "execution_count": 0,
      "outputs": []
    },
    {
      "cell_type": "markdown",
      "metadata": {
        "id": "mMelhlJHZt7A",
        "colab_type": "text"
      },
      "source": [
        "100 images of guitars were used as the input list. \n",
        "The remainder of the code was taken from the referenced tutorial."
      ]
    },
    {
      "cell_type": "code",
      "metadata": {
        "id": "DKryunaAZb3z",
        "colab_type": "code",
        "colab": {}
      },
      "source": [
        "imagePaths = list(paths.list_images(args[\"dataset\"]))\n",
        "data = []\n",
        "labels = []\n",
        "# loop over the image paths\n",
        "for imagePath in imagePaths:\n",
        "\t# extract the class label from the filename\n",
        "\tlabel = imagePath.split(os.path.sep)[-2]\n",
        "\t# load the input image (224x224) and preprocess it\n",
        "\timage = load_img(imagePath, target_size=(224, 224))\n",
        "\timage = img_to_array(image)\n",
        "\timage = preprocess_input(image)\n",
        "\t# update the data and labels lists, respectively\n",
        "\tdata.append(image)\n",
        "\tlabels.append(label)\n",
        "# convert the data and labels to NumPy arrays\n",
        "data = np.array(data, dtype=\"float32\")\n",
        "labels = np.array(labels)\n",
        "\n",
        "# perform one-hot encoding on the labels\n",
        "lb = LabelBinarizer()\n",
        "labels = lb.fit_transform(labels)\n",
        "labels = to_categorical(labels)\n",
        "# partition the data into training and testing splits using 80% of\n",
        "# the data for training and the remaining 20% for testing\n",
        "(trainX, testX, trainY, testY) = train_test_split(data, labels,\n",
        "\ttest_size=0.20, stratify=labels, random_state=42)\n",
        "# construct the training image generator for data augmentation\n",
        "aug = ImageDataGenerator(\n",
        "\trotation_range=20,\n",
        "\tzoom_range=0.15,\n",
        "\twidth_shift_range=0.2,\n",
        "\theight_shift_range=0.2,\n",
        "\tshear_range=0.15,\n",
        "\thorizontal_flip=True,\n",
        "\tfill_mode=\"nearest\")\n",
        "\n",
        "# load the MobileNetV2 network, ensuring the head FC layer sets are\n",
        "# left off\n",
        "baseModel = MobileNetV2(weights=\"imagenet\", include_top=False,\n",
        "\tinput_tensor=Input(shape=(224, 224, 3)))\n",
        "# construct the head of the model that will be placed on top of the\n",
        "# the base model\n",
        "headModel = baseModel.output\n",
        "headModel = AveragePooling2D(pool_size=(7, 7))(headModel)\n",
        "headModel = Flatten(name=\"flatten\")(headModel)\n",
        "headModel = Dense(128, activation=\"relu\")(headModel)\n",
        "headModel = Dropout(0.5)(headModel)\n",
        "headModel = Dense(2, activation=\"softmax\")(headModel)\n",
        "# place the head FC model on top of the base model (this will become\n",
        "# the actual model we will train)\n",
        "model = Model(inputs=baseModel.input, outputs=headModel)\n",
        "# loop over all layers in the base model and freeze them so they will\n",
        "# *not* be updated during the first training process\n",
        "for layer in baseModel.layers:\n",
        "\tlayer.trainable = False\n",
        "\n",
        "# compile our model\n",
        "print(\"[INFO] compiling model...\")\n",
        "opt = Adam(lr=INIT_LR, decay=INIT_LR / EPOCHS)\n",
        "model.compile(loss=\"binary_crossentropy\", optimizer=opt,\n",
        "\tmetrics=[\"accuracy\"])\n",
        "# train the head of the network\n",
        "print(\"[INFO] training head...\")\n",
        "H = model.fit(\n",
        "\taug.flow(trainX, trainY, batch_size=BS),\n",
        "\tsteps_per_epoch=len(trainX) // BS,\n",
        "\tvalidation_data=(testX, testY),\n",
        "\tvalidation_steps=len(testX) // BS,\n",
        "\tepochs=EPOCHS)"
      ],
      "execution_count": 0,
      "outputs": []
    },
    {
      "cell_type": "markdown",
      "metadata": {
        "id": "UDUtsqB7Zf3-",
        "colab_type": "text"
      },
      "source": [
        "Create predictions and save off model. This will **not** be the correct format for use on OpenCV in this stage."
      ]
    },
    {
      "cell_type": "code",
      "metadata": {
        "id": "nwMSnsZOZeB_",
        "colab_type": "code",
        "colab": {}
      },
      "source": [
        "print(\"[INFO] evaluating network...\")\n",
        "predIdxs = model.predict(testX, batch_size=BS)\n",
        "# for each image in the testing set we need to find the index of the\n",
        "# label with corresponding largest predicted probability\n",
        "predIdxs = np.argmax(predIdxs, axis=1)\n",
        "# show a nicely formatted classification report\n",
        "print(classification_report(testY.argmax(axis=1), predIdxs,\n",
        "\ttarget_names=lb.classes_))\n",
        "# serialize the model to disk\n",
        "print(\"[INFO] saving guitar case detector model...\")\n",
        "model.save(args[\"model\"], save_format=\"h5\")"
      ],
      "execution_count": 0,
      "outputs": []
    },
    {
      "cell_type": "markdown",
      "metadata": {
        "id": "PkfY36b7acxS",
        "colab_type": "text"
      },
      "source": [
        "#Part 2: Converting the model into a useable format for the Raspberry Pi/NC2 platform."
      ]
    },
    {
      "cell_type": "markdown",
      "metadata": {
        "id": "3H5HwDwgbxeU",
        "colab_type": "text"
      },
      "source": [
        "Import packages to support video streaming."
      ]
    },
    {
      "cell_type": "code",
      "metadata": {
        "id": "e81aCWObabqI",
        "colab_type": "code",
        "colab": {}
      },
      "source": [
        "from imutils.video import VideoStream\n",
        "from imutils.video import FPS\n",
        "import numpy as np\n",
        "import argparse\n",
        "import imutils\n",
        "import time\n",
        "import cv2\n",
        "from tensorflow.keras.applications.mobilenet_v2 import preprocess_input\n",
        "from tensorflow.keras.preprocessing.image import img_to_array\n",
        "from tensorflow.keras.models import load_model\n",
        "import os"
      ],
      "execution_count": 0,
      "outputs": []
    },
    {
      "cell_type": "markdown",
      "metadata": {
        "id": "eeGv7zqKb3FD",
        "colab_type": "text"
      },
      "source": [
        "Import the pretrained model and corresponding label file."
      ]
    },
    {
      "cell_type": "code",
      "metadata": {
        "id": "weOJIakNab4K",
        "colab_type": "code",
        "colab": {}
      },
      "source": [
        "net = cv2.dnn.readNetFromCaffe(args[\"prototxt\"], args[\"model\"])\n",
        "guitarNet = load_model(args[\"modeltransfer\"])\n",
        "# specify the target device as the Myriad processor on the NCS\n",
        "net.setPreferableTarget(cv2.dnn.DNN_TARGET_MYRIAD)"
      ],
      "execution_count": 0,
      "outputs": []
    },
    {
      "cell_type": "markdown",
      "metadata": {
        "id": "Hw-bE0CMb9jk",
        "colab_type": "text"
      },
      "source": [
        "For each frame, detect and label any guitar shaped items."
      ]
    },
    {
      "cell_type": "code",
      "metadata": {
        "id": "eb0PYr-qacDj",
        "colab_type": "code",
        "colab": {}
      },
      "source": [
        "def detect_and_predict_guitar(frame, net, guitarNet):\n",
        "\t# grab the frame dimensions and convert it to a blob\n",
        "\t(h, w) = frame.shape[:2]\n",
        "\tblob = cv2.dnn.blobFromImage(frame, 0.007843, (300, 300), 127.5)\n",
        "\t# pass the blob through the network and obtain the detections and\n",
        "\t# predictions\n",
        "\tnet.setInput(blob)\n",
        "\tdetections = net.forward()\n",
        "\t\n",
        "\tobjects = []\n",
        "\tlocs = []\n",
        "\tpreds = []\n",
        "\n",
        "\tfor i in np.arange(0, detections.shape[2]):\n",
        "\t\t# extract the confidence (i.e., probability) associated with\n",
        "\t\t# the prediction\n",
        "\t\tconfidence = detections[0, 0, i, 2]\n",
        "                # filter out weak detections by ensuring the `confidence` is\n",
        "\t\t# greater than the minimum confidence\n",
        "\t\tif confidence > args[\"confidence\"]:\n",
        "\t\t\t# extract the index of the class label from the\n",
        "\t\t\t# `detections`, then compute the (x, y)-coordinates of\n",
        "\t\t\t# the bounding box for the object\n",
        "\t\t\tidx = int(detections[0, 0, i, 1])\n",
        "\t\t\tbox = detections[0, 0, i, 3:7] * np.array([w, h, w, h])\n",
        "\t\t\t(startX, startY, endX, endY) = box.astype(\"int\")\n",
        "\t\t\tobject = frame[startY:endY, startX:endX]\n",
        "\t\t\tobject = cv2.cvtColor(object, cv2.COLOR_BGR2RGB)\n",
        "\t\t\tobject = cv2.resize(object, (224,224))\n",
        "\t\t\tobject = img_to_array(object)\n",
        "\t\t\tobject = preprocess_input(object)\n",
        "\t\t\tobjects.append(object)\n",
        "\t\t\tlocs.append((startX, startY, endX, endY))\n",
        "\n",
        "\tif len(objects) >0:\n",
        "\t\tobjects = np.array(objects, dtype=\"float32\")\n",
        "\t\tpreds = guitarNet.predict(objects, batch_size=32)\n",
        "\treturn(locs, preds)\n",
        "\n",
        "\n",
        "# initialize the video stream, allow the cammera sensor to warmup,\n",
        "# and initialize the FPS counter\n",
        "print(\"[INFO] starting video stream...\")\n",
        "vs = VideoStream(usePiCamera=True).start()\n",
        "time.sleep(2.0)\n",
        "fps = FPS().start()"
      ],
      "execution_count": 0,
      "outputs": []
    },
    {
      "cell_type": "markdown",
      "metadata": {
        "id": "fet1Muivbfco",
        "colab_type": "text"
      },
      "source": [
        "Detect objects throughout the video stream and call the prediction function to label the images."
      ]
    },
    {
      "cell_type": "code",
      "metadata": {
        "id": "-0bIqBs9bf-H",
        "colab_type": "code",
        "colab": {}
      },
      "source": [
        "while True:\n",
        "\t# grab the frame from the threaded video stream and resize it\n",
        "\t# to have a maximum width of 400 pixels\n",
        "\tframe = vs.read()\n",
        "\tframe = imutils.resize(frame, width=400)\n",
        "\n",
        "\t(locs, preds) = detect_and_predict_guitar(frame, net, guitarNet)\n",
        "\tfor (box, pred) in zip(locs, preds):\n",
        "\t\t(startX, startY, endX, endY) = box\n",
        "\t\t(guitar, noGuitar) = pred\n",
        "\t\t\n",
        "\t\tlabel = \"Guitar\" if guitar > noGuitar else \"No Guitar\"\n",
        "\t\tcolor = (0,255,0) if label == \"Guitar\" else (0,0,255)\n",
        "\t\t\t\n",
        "\t\tlabel = \"{}: {:.2f}%\".format(label, max(guitar, noGuitar) * 100)\n",
        "\n",
        "\t\tcv2.putText(frame, label, (startX, startY - 10),\n",
        "\t\t\t\tcv2.FONT_HERSHEY_SIMPLEX, 0.45, color, 2)\n",
        "\n",
        "\t\tcv2.rectangle(frame, (startX, startY), (endX, endY),\n",
        "\t\t\t\tcolor, 2)\n",
        "\n",
        "\t# show the output frame\n",
        "\tcv2.imshow(\"Frame\", frame)\n",
        "\tcv2.namedWindow('Frame',cv2.WINDOW_NORMAL)\n",
        "\tcv2.resizeWindow('Frame', 600,600)\n",
        "\tkey = cv2.waitKey(1) & 0xFF\n",
        "\n",
        "\t# if the `q` key was pressed, break from the loop\n",
        "\tif key == ord(\"q\"):\n",
        "\t\tbreak\n",
        "\n",
        "\t# update the FPS counter\n",
        "\tfps.update()\n",
        "\n",
        "# stop the timer and display FPS information\n",
        "fps.stop()\n",
        "print(\"[INFO] elasped time: {:.2f}\".format(fps.elapsed()))\n",
        "print(\"[INFO] approx. FPS: {:.2f}\".format(fps.fps()))\n",
        "\n",
        "# do a bit of cleanup\n",
        "cv2.destroyAllWindows()\n",
        "vs.stop()"
      ],
      "execution_count": 0,
      "outputs": []
    }
  ]
}